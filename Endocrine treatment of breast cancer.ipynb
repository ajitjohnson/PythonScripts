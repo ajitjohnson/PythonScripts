{
 "cells": [
  {
   "cell_type": "markdown",
   "metadata": {},
   "source": [
    "###  Objective\n",
    "To study the effect of immune infiltration in endocrine treated breast cancer patients. The data is from 36 patients who have been given Anastrazole and saples have been taken from before and after treatment. The dataset contains 15 non-responders and 24 responders."
   ]
  },
  {
   "cell_type": "markdown",
   "metadata": {},
   "source": [
    "### Import packages"
   ]
  },
  {
   "cell_type": "code",
   "execution_count": 1,
   "metadata": {
    "collapsed": true
   },
   "outputs": [],
   "source": [
    "import pandas as pd\n",
    "import numpy as np\n",
    "import os\n",
    "import seaborn as sns"
   ]
  },
  {
   "cell_type": "markdown",
   "metadata": {},
   "source": [
    "### Import data\n",
    "* The immune signature was defined by a manual feature selection of the most co-expressed genes (ImSig), identified from the network graph."
   ]
  },
  {
   "cell_type": "code",
   "execution_count": 2,
   "metadata": {
    "collapsed": true
   },
   "outputs": [],
   "source": [
    "# Set Working directory\n",
    "WD = '//ris-fas1a.roslin.ed.ac.uk/v1anirma/Win7/Desktop/Anastrazole'\n",
    "os.chdir(WD)\n",
    "# Import data\n",
    "exp = pd.read_csv('pre_collapse.txt', delimiter='\\t', index_col=0)\n",
    "sig = pd.read_csv('feature selected genes.txt', delimiter='\\t', index_col=0)\n",
    "response = pd.read_csv('response.txt', delimiter='\\t', index_col=0)"
   ]
  },
  {
   "cell_type": "markdown",
   "metadata": {},
   "source": [
    "### Reduce multiple transcripts into one gene"
   ]
  },
  {
   "cell_type": "code",
   "execution_count": 3,
   "metadata": {
    "collapsed": true
   },
   "outputs": [],
   "source": [
    "grouped = exp.groupby(exp.index).max()\n",
    "grouped = grouped.apply(lambda x: np.power(x,2), axis=1)\n",
    "# Write out the collapsed DataFrame if necessary\n",
    "# grouped.to_csv('Post Collapse.txt', sep= \"\\t\")"
   ]
  },
  {
   "cell_type": "markdown",
   "metadata": {},
   "source": [
    "### Calculate the average expression of signature genes\n",
    "* The objective is to test if there is a change in the number of immune cells between the responders and non-responders. "
   ]
  },
  {
   "cell_type": "code",
   "execution_count": null,
   "metadata": {
    "collapsed": true
   },
   "outputs": [],
   "source": []
  }
 ],
 "metadata": {
  "kernelspec": {
   "display_name": "Python 3",
   "language": "python",
   "name": "python3"
  },
  "language_info": {
   "codemirror_mode": {
    "name": "ipython",
    "version": 3
   },
   "file_extension": ".py",
   "mimetype": "text/x-python",
   "name": "python",
   "nbconvert_exporter": "python",
   "pygments_lexer": "ipython3",
   "version": "3.6.1"
  }
 },
 "nbformat": 4,
 "nbformat_minor": 2
}
